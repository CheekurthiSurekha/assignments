{
 "cells": [
  {
   "cell_type": "markdown",
   "id": "caf67fb7-2983-4283-a5fa-7c63752141a6",
   "metadata": {},
   "source": [
    "Write a program in Jupyter Notebook to declare variables of different data types (integer, float, string, and boolean). Print each variable and its type.\n"
   ]
  },
  {
   "cell_type": "code",
   "execution_count": 2,
   "id": "841e378d-ac8f-4cae-865e-68e80c082c4d",
   "metadata": {},
   "outputs": [
    {
     "name": "stdout",
     "output_type": "stream",
     "text": [
      "Integer Variable:\n",
      "Value: 10\n",
      "Type: <class 'int'>\n",
      "\n",
      "Float Variable:\n",
      "Value: 3.14\n",
      "Type: <class 'float'>\n",
      "\n",
      "String Variable:\n",
      "Value: Hello, World!\n",
      "Type: <class 'str'>\n",
      "\n",
      "Boolean Variable:\n",
      "Value: True\n",
      "Type: <class 'bool'>\n"
     ]
    }
   ],
   "source": [
    "# Declare variables of different data types\n",
    "integer_var = 10  # Integer\n",
    "float_var = 3.14  # Float\n",
    "string_var = \"Hello, World!\"  # String\n",
    "boolean_var = True  # Boolean\n",
    "\n",
    "print(\"Integer Variable:\")\n",
    "print(\"Value:\", integer_var)\n",
    "print(\"Type:\", type(integer_var))\n",
    "print()\n",
    "\n",
    "print(\"Float Variable:\")\n",
    "print(\"Value:\", float_var)\n",
    "print(\"Type:\", type(float_var))\n",
    "print()\n",
    "\n",
    "print(\"String Variable:\")\n",
    "print(\"Value:\", string_var)\n",
    "print(\"Type:\", type(string_var))\n",
    "print()\n",
    "\n",
    "print(\"Boolean Variable:\")\n",
    "print(\"Value:\", boolean_var)\n",
    "print(\"Type:\", type(boolean_var))"
   ]
  },
  {
   "cell_type": "code",
   "execution_count": null,
   "id": "c18f3f62-438b-47ad-8069-3e0a5dc28e86",
   "metadata": {},
   "outputs": [],
   "source": []
  }
 ],
 "metadata": {
  "kernelspec": {
   "display_name": "Python [conda env:base] *",
   "language": "python",
   "name": "conda-base-py"
  },
  "language_info": {
   "codemirror_mode": {
    "name": "ipython",
    "version": 3
   },
   "file_extension": ".py",
   "mimetype": "text/x-python",
   "name": "python",
   "nbconvert_exporter": "python",
   "pygments_lexer": "ipython3",
   "version": "3.12.7"
  }
 },
 "nbformat": 4,
 "nbformat_minor": 5
}

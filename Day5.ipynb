{
 "cells": [
  {
   "cell_type": "markdown",
   "id": "478b2dca-4357-4d78-ad9b-645a47c0bf51",
   "metadata": {},
   "source": [
    "1)Write a Python program that performs the following tasks:\n",
    "\n",
    "1. Ask the user to enter a positive integer `n`.\n",
    "2. Use a `for` loop to print all numbers from `1` to `n` on separate lines.\n",
    "3. Use a `while` loop to calculate the sum of all numbers from `1` to `n` and print the result.\n"
   ]
  },
  {
   "cell_type": "code",
   "execution_count": 4,
   "id": "760e1509-eaf7-405d-8cf8-b6bd4fd63ce0",
   "metadata": {},
   "outputs": [
    {
     "name": "stdin",
     "output_type": "stream",
     "text": [
      "Enter a positive integer:  6\n"
     ]
    },
    {
     "name": "stdout",
     "output_type": "stream",
     "text": [
      "Numbers from 1 to 6\n",
      "1\n",
      "2\n",
      "3\n",
      "4\n",
      "5\n",
      "6\n",
      "Sum of all numbers from 1 to 6 is: 21\n"
     ]
    }
   ],
   "source": [
    "# Ask the user to enter a positive integer\n",
    "n = int(input(\"Enter a positive integer: \"))\n",
    "\n",
    "# Print all numbers from 1 to n using a for loop\n",
    "print(\"Numbers from 1 to\", n)\n",
    "for i in range(1, n + 1):\n",
    "    print(i)\n",
    "\n",
    "# Calculate the sum of all numbers from 1 to n using a while loop\n",
    "sum_numbers = 0\n",
    "i = 1\n",
    "while i <= n:\n",
    "    sum_numbers += i\n",
    "    i += 1\n",
    "print(\"Sum of all numbers from 1 to\", n, \"is:\", sum_numbers)"
   ]
  },
  {
   "cell_type": "markdown",
   "id": "3e6b17e9-d8e5-4a67-8477-171639a87084",
   "metadata": {},
   "source": [
    "2)Write a Python program that includes a user-defined function to perform the following tasks:\n",
    "\n",
    "1. Define a function named calculate_square that takes a single argument `n` and returns the square of `n`.\n",
    "2. In the main program, ask the user to input a positive integer.\n",
    "3. Call the calculate_square function with the user-provided number and display the result.\n"
   ]
  },
  {
   "cell_type": "code",
   "execution_count": 7,
   "id": "4dc21c78-354e-40f8-a576-88340de595f5",
   "metadata": {},
   "outputs": [
    {
     "name": "stdin",
     "output_type": "stream",
     "text": [
      "Enter a positive integer:  8\n"
     ]
    },
    {
     "name": "stdout",
     "output_type": "stream",
     "text": [
      "The square of 8 is: 64\n"
     ]
    }
   ],
   "source": [
    "# Define a function to calculate the square of a number\n",
    "def calculate_square(n):\n",
    "    return n * n\n",
    "\n",
    "# Ask the user to input a positive integer\n",
    "num = int(input(\"Enter a positive integer: \"))\n",
    "\n",
    "# Call the function and display the result\n",
    "square = calculate_square(num)\n",
    "print(f\"The square of {num} is: {square}\")"
   ]
  },
  {
   "cell_type": "code",
   "execution_count": null,
   "id": "788d6d89-96bd-4630-930f-3072e42d6020",
   "metadata": {},
   "outputs": [],
   "source": []
  }
 ],
 "metadata": {
  "kernelspec": {
   "display_name": "Python [conda env:base] *",
   "language": "python",
   "name": "conda-base-py"
  },
  "language_info": {
   "codemirror_mode": {
    "name": "ipython",
    "version": 3
   },
   "file_extension": ".py",
   "mimetype": "text/x-python",
   "name": "python",
   "nbconvert_exporter": "python",
   "pygments_lexer": "ipython3",
   "version": "3.12.7"
  }
 },
 "nbformat": 4,
 "nbformat_minor": 5
}

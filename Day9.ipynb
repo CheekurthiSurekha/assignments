{
 "cells": [
  {
   "cell_type": "markdown",
   "id": "da4e7b7c-b2dc-4dec-919e-7d0014827688",
   "metadata": {},
   "source": [
    "Data Exploration"
   ]
  },
  {
   "cell_type": "code",
   "execution_count": 6,
   "id": "6b49c800-7264-45e5-8edc-0f89ccacee84",
   "metadata": {},
   "outputs": [],
   "source": [
    "import pandas as pd\n",
    "\n",
    "# Load the CSV file into a DataFrame\n",
    "df = pd.read_csv('Day_9_banking_data.csv')"
   ]
  },
  {
   "cell_type": "code",
   "execution_count": 8,
   "id": "a83cf574-d797-4edd-b3fc-980cfd26c984",
   "metadata": {},
   "outputs": [
    {
     "name": "stdout",
     "output_type": "stream",
     "text": [
      "         Date       Account_Type    Branch Transaction_Type  \\\n",
      "0  2023-01-19      Fixed Deposit   Central     Loan Payment   \n",
      "1  2023-01-16            Current    Uptown       Withdrawal   \n",
      "2  2023-01-10            Current    Uptown     Loan Payment   \n",
      "3  2023-01-18            Savings    Uptown     Loan Payment   \n",
      "4  2023-01-14  Recurring Deposit  Suburban     Loan Payment   \n",
      "\n",
      "   Transaction_Amount  Account_Balance  \n",
      "0              985.51          6839.59  \n",
      "1              641.43          8908.39  \n",
      "2             3363.85         12428.67  \n",
      "3             1914.60          5776.63  \n",
      "4             2788.57          4779.04  \n"
     ]
    }
   ],
   "source": [
    "# Display the first 5 rows of the DataFrame\n",
    "print(df.head())"
   ]
  },
  {
   "cell_type": "code",
   "execution_count": 10,
   "id": "4d116b6c-d87d-4ac9-b16b-b70e532bdb36",
   "metadata": {},
   "outputs": [
    {
     "name": "stdout",
     "output_type": "stream",
     "text": [
      "       Transaction_Amount  Account_Balance\n",
      "count           20.000000        20.000000\n",
      "mean          2705.829500      7967.766500\n",
      "std           1429.829787      2770.248821\n",
      "min            641.430000      2592.160000\n",
      "25%           1482.085000      6460.127500\n",
      "50%           2567.645000      7905.275000\n",
      "75%           4121.525000      9127.702500\n",
      "max           4683.640000     12836.510000\n"
     ]
    }
   ],
   "source": [
    "# Generate descriptive statistics of the numerical columns\n",
    "print(df.describe())"
   ]
  },
  {
   "cell_type": "code",
   "execution_count": 12,
   "id": "83cd510e-bcce-4529-b645-f3bb2715dbb7",
   "metadata": {},
   "outputs": [
    {
     "name": "stdout",
     "output_type": "stream",
     "text": [
      "Date                  0\n",
      "Account_Type          0\n",
      "Branch                0\n",
      "Transaction_Type      0\n",
      "Transaction_Amount    0\n",
      "Account_Balance       0\n",
      "dtype: int64\n"
     ]
    }
   ],
   "source": [
    "# Check for missing values in the dataset\n",
    "print(df.isnull().sum())"
   ]
  },
  {
   "cell_type": "markdown",
   "id": "6d19baf5-6c1b-4a3a-b6d4-4e6b3b3f218d",
   "metadata": {},
   "source": [
    "Data Aggregation and Grouping"
   ]
  },
  {
   "cell_type": "code",
   "execution_count": 16,
   "id": "455b0805-f653-4f7f-aeca-c1a9bd0d81d4",
   "metadata": {},
   "outputs": [
    {
     "name": "stdout",
     "output_type": "stream",
     "text": [
      "                   total_transaction_amount  average_account_balance\n",
      "Account_Type                                                        \n",
      "Current                            15052.57              9893.404000\n",
      "Fixed Deposit                      14102.59              6120.380000\n",
      "Recurring Deposit                  15179.99              7627.283333\n",
      "Savings                             9781.44              9134.110000\n"
     ]
    }
   ],
   "source": [
    "# Group by 'Account_Type' and calculate the total sum of 'Transaction_Amount'\n",
    "account_type_group = df.groupby('Account_Type').agg(\n",
    "    total_transaction_amount=('Transaction_Amount', 'sum'),\n",
    "    average_account_balance=('Account_Balance', 'mean')\n",
    ")\n",
    "\n",
    "# Display the result\n",
    "print(account_type_group)\n"
   ]
  },
  {
   "cell_type": "code",
   "execution_count": 18,
   "id": "ea45e382-4dd8-440d-9ae2-95c14640eb7e",
   "metadata": {},
   "outputs": [
    {
     "name": "stdout",
     "output_type": "stream",
     "text": [
      "          total_transactions  average_transaction_amount\n",
      "Branch                                                  \n",
      "Central                    8                 2942.338750\n",
      "Downtown                   3                 3188.703333\n",
      "Suburban                   5                 2773.278000\n",
      "Uptown                     4                 1786.345000\n"
     ]
    }
   ],
   "source": [
    "# Group by 'Branch' and calculate the total number of transactions and average 'Transaction_Amount'\n",
    "branch_group = df.groupby('Branch').agg(\n",
    "    total_transactions=('Transaction_Amount', 'count'),\n",
    "    average_transaction_amount=('Transaction_Amount', 'mean')\n",
    ")\n",
    "\n",
    "# Display the result\n",
    "print(branch_group)\n"
   ]
  },
  {
   "cell_type": "code",
   "execution_count": null,
   "id": "107845e5-42c6-4ea9-8752-544437f1c75c",
   "metadata": {},
   "outputs": [],
   "source": []
  }
 ],
 "metadata": {
  "kernelspec": {
   "display_name": "Python [conda env:base] *",
   "language": "python",
   "name": "conda-base-py"
  },
  "language_info": {
   "codemirror_mode": {
    "name": "ipython",
    "version": 3
   },
   "file_extension": ".py",
   "mimetype": "text/x-python",
   "name": "python",
   "nbconvert_exporter": "python",
   "pygments_lexer": "ipython3",
   "version": "3.12.7"
  }
 },
 "nbformat": 4,
 "nbformat_minor": 5
}

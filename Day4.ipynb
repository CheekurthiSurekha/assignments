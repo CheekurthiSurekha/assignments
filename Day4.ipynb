{
 "cells": [
  {
   "cell_type": "markdown",
   "id": "bf502db8-f244-451e-b6f1-305f03dccc59",
   "metadata": {},
   "source": [
    "Write a Python program to calculate the sum of all even numbers between 1 and a given positive integer n\n"
   ]
  },
  {
   "cell_type": "code",
   "execution_count": 5,
   "id": "988e9cc2-4694-4203-8648-81a985ec1ccc",
   "metadata": {},
   "outputs": [
    {
     "name": "stdin",
     "output_type": "stream",
     "text": [
      "Enter a positive integer:  2024\n"
     ]
    },
    {
     "name": "stdout",
     "output_type": "stream",
     "text": [
      "The sum of all even numbers between 1 and 2024 is: 1025156\n"
     ]
    }
   ],
   "source": [
    "# Take input for the positive integer n\n",
    "n = int(input(\"Enter a positive integer: \"))\n",
    "\n",
    "# Initialize a variable to store the sum of even numbers\n",
    "even_sum = 0\n",
    "\n",
    "# Loop through all numbers from 1 to n\n",
    "for num in range(1, n + 1):\n",
    "    if num % 2 == 0:  # Check if the number is even\n",
    "        even_sum += num\n",
    "\n",
    "# Print the result\n",
    "print(f\"The sum of all even numbers between 1 and {n} is: {even_sum}\")"
   ]
  },
  {
   "cell_type": "code",
   "execution_count": null,
   "id": "6db43e80-23ff-400d-bee5-96e2297843bd",
   "metadata": {},
   "outputs": [],
   "source": []
  }
 ],
 "metadata": {
  "kernelspec": {
   "display_name": "Python [conda env:base] *",
   "language": "python",
   "name": "conda-base-py"
  },
  "language_info": {
   "codemirror_mode": {
    "name": "ipython",
    "version": 3
   },
   "file_extension": ".py",
   "mimetype": "text/x-python",
   "name": "python",
   "nbconvert_exporter": "python",
   "pygments_lexer": "ipython3",
   "version": "3.12.7"
  }
 },
 "nbformat": 4,
 "nbformat_minor": 5
}

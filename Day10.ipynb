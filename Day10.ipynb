{
 "cells": [
  {
   "cell_type": "markdown",
   "id": "a164f1ea-a5ac-4ef0-9897-1795aeeaefe5",
   "metadata": {},
   "source": [
    "Filtering Data Based on Conditions"
   ]
  },
  {
   "cell_type": "code",
   "execution_count": 6,
   "id": "c41d0fca-6591-40a6-be9b-02222666ca87",
   "metadata": {},
   "outputs": [],
   "source": [
    "import pandas as pd"
   ]
  },
  {
   "cell_type": "code",
   "execution_count": 8,
   "id": "c420f05f-7980-4917-a8fe-7d666c9eb511",
   "metadata": {},
   "outputs": [],
   "source": [
    "import numpy as np"
   ]
  },
  {
   "cell_type": "code",
   "execution_count": 10,
   "id": "be0f8fd1-e06d-4391-941f-4725e7e6da6e",
   "metadata": {},
   "outputs": [],
   "source": [
    "# Load the CSV file\n",
    "df = pd.read_csv('Day_10_banking_data.csv')"
   ]
  },
  {
   "cell_type": "code",
   "execution_count": 18,
   "id": "f8c621f1-da23-4973-8b60-ac2ede9a69bd",
   "metadata": {},
   "outputs": [
    {
     "name": "stdout",
     "output_type": "stream",
     "text": [
      "          Date       Account_Type    Branch Transaction_Type  \\\n",
      "2   2023-01-10            Current    Uptown     Loan Payment   \n",
      "4   2023-01-14  Recurring Deposit  Suburban     Loan Payment   \n",
      "5   2023-01-06            Current  Suburban   Service Charge   \n",
      "7   2023-01-09            Current   Central     Loan Payment   \n",
      "8   2023-01-20  Recurring Deposit  Downtown   Service Charge   \n",
      "13  2023-01-05  Recurring Deposit   Central     Loan Payment   \n",
      "14  2023-01-01      Fixed Deposit  Downtown       Withdrawal   \n",
      "15  2023-01-03            Savings  Suburban   Service Charge   \n",
      "16  2023-01-02      Fixed Deposit   Central          Deposit   \n",
      "17  2023-01-07            Current   Central     Loan Payment   \n",
      "19  2023-01-17            Savings   Central          Deposit   \n",
      "\n",
      "    Transaction_Amount  Account_Balance  \n",
      "2              3363.85         12428.67  \n",
      "4              2788.57          4779.04  \n",
      "5              4584.05          7635.47  \n",
      "7              2346.72         10708.85  \n",
      "8              3899.98         12646.56  \n",
      "13             4683.64          6762.43  \n",
      "14             4136.54          8175.08  \n",
      "15             3350.32         12836.51  \n",
      "16             4421.57          8330.40  \n",
      "17             4116.52          9785.64  \n",
      "19             4516.52          8789.19  \n"
     ]
    }
   ],
   "source": [
    "# Filter rows where 'Transaction_Amount' is greater than 2000\n",
    "filtered_transactions = df[df['Transaction_Amount'] > 2000]\n",
    "# Display the filtered result\n",
    "print(filtered_transactions)"
   ]
  },
  {
   "cell_type": "code",
   "execution_count": 20,
   "id": "194b942a-8147-499f-81f3-f115c7c68c25",
   "metadata": {},
   "outputs": [
    {
     "name": "stdout",
     "output_type": "stream",
     "text": [
      "          Date       Account_Type   Branch Transaction_Type  \\\n",
      "0   2023-01-19      Fixed Deposit  Central     Loan Payment   \n",
      "2   2023-01-10            Current   Uptown     Loan Payment   \n",
      "3   2023-01-18            Savings   Uptown     Loan Payment   \n",
      "7   2023-01-09            Current  Central     Loan Payment   \n",
      "13  2023-01-05  Recurring Deposit  Central     Loan Payment   \n",
      "17  2023-01-07            Current  Central     Loan Payment   \n",
      "\n",
      "    Transaction_Amount  Account_Balance  \n",
      "0               985.51          6839.59  \n",
      "2              3363.85         12428.67  \n",
      "3              1914.60          5776.63  \n",
      "7              2346.72         10708.85  \n",
      "13             4683.64          6762.43  \n",
      "17             4116.52          9785.64  \n"
     ]
    }
   ],
   "source": [
    "# Filter rows where 'Transaction_Type' is \"Loan Payment\" and 'Account_Balance' is greater than 5000\n",
    "loan_payment_high_balance = df[(df['Transaction_Type'] == 'Loan Payment') & (df['Account_Balance'] > 5000)]\n",
    "# Display the filtered result\n",
    "print(loan_payment_high_balance)"
   ]
  },
  {
   "cell_type": "code",
   "execution_count": 22,
   "id": "51606f83-dda1-4f53-8236-08241f9afc79",
   "metadata": {},
   "outputs": [
    {
     "name": "stdout",
     "output_type": "stream",
     "text": [
      "          Date   Account_Type  Branch Transaction_Type  Transaction_Amount  \\\n",
      "1   2023-01-16        Current  Uptown       Withdrawal              641.43   \n",
      "2   2023-01-10        Current  Uptown     Loan Payment             3363.85   \n",
      "3   2023-01-18        Savings  Uptown     Loan Payment             1914.60   \n",
      "12  2023-01-15  Fixed Deposit  Uptown   Service Charge             1225.50   \n",
      "\n",
      "    Account_Balance  \n",
      "1           8908.39  \n",
      "2          12428.67  \n",
      "3           5776.63  \n",
      "12          4224.47  \n"
     ]
    }
   ],
   "source": [
    "# Filter rows where 'Branch' is \"Uptown\"\n",
    "uptown_transactions = df[df['Branch'] == 'Uptown']\n",
    "# Display the filtered result\n",
    "print(uptown_transactions)"
   ]
  },
  {
   "cell_type": "markdown",
   "id": "e2f13d4d-2254-4a25-88d5-b135fa523e7f",
   "metadata": {},
   "source": [
    "Data Transformation"
   ]
  },
  {
   "cell_type": "code",
   "execution_count": 25,
   "id": "fd338c5d-f376-414a-b7e2-616dafca73d9",
   "metadata": {},
   "outputs": [
    {
     "name": "stdout",
     "output_type": "stream",
     "text": [
      "   Transaction_Amount  Transaction_Fee\n",
      "0              985.51          19.7102\n",
      "1              641.43          12.8286\n",
      "2             3363.85          67.2770\n",
      "3             1914.60          38.2920\n",
      "4             2788.57          55.7714\n"
     ]
    }
   ],
   "source": [
    "# Calculate 2% of 'Transaction_Amount' and add it as a new column 'Transaction_Fee'\n",
    "df['Transaction_Fee'] = df['Transaction_Amount'] * 0.02\n",
    "\n",
    "# Display the updated DataFrame with the new 'Transaction_Fee' column\n",
    "print(df[['Transaction_Amount', 'Transaction_Fee']].head())"
   ]
  },
  {
   "cell_type": "code",
   "execution_count": 27,
   "id": "504f9744-6c52-4642-a758-92889232048b",
   "metadata": {},
   "outputs": [
    {
     "name": "stdout",
     "output_type": "stream",
     "text": [
      "   Account_Balance Balance_Status\n",
      "0          6839.59   High Balance\n",
      "1          8908.39   High Balance\n",
      "2         12428.67   High Balance\n",
      "3          5776.63   High Balance\n",
      "4          4779.04    Low Balance\n"
     ]
    }
   ],
   "source": [
    "# Create 'Balance_Status' based on 'Account_Balance'\n",
    "df['Balance_Status'] = df['Account_Balance'].apply(lambda x: 'High Balance' if x > 5000 else 'Low Balance')\n",
    "\n",
    "# Display the updated DataFrame with the new 'Balance_Status' column\n",
    "print(df[['Account_Balance', 'Balance_Status']].head())"
   ]
  },
  {
   "cell_type": "code",
   "execution_count": null,
   "id": "eea9f25e-7217-40f6-bf78-2c0233170b1c",
   "metadata": {},
   "outputs": [],
   "source": []
  }
 ],
 "metadata": {
  "kernelspec": {
   "display_name": "Python [conda env:base] *",
   "language": "python",
   "name": "conda-base-py"
  },
  "language_info": {
   "codemirror_mode": {
    "name": "ipython",
    "version": 3
   },
   "file_extension": ".py",
   "mimetype": "text/x-python",
   "name": "python",
   "nbconvert_exporter": "python",
   "pygments_lexer": "ipython3",
   "version": "3.12.7"
  }
 },
 "nbformat": 4,
 "nbformat_minor": 5
}

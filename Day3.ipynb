{
 "cells": [
  {
   "cell_type": "code",
   "execution_count": 3,
   "id": "305a0fba-2341-4208-a0d6-679da93a9fe7",
   "metadata": {},
   "outputs": [
    {
     "name": "stdin",
     "output_type": "stream",
     "text": [
      "Enter marks for Subject 1:  50\n",
      "Enter marks for Subject 2:  70\n",
      "Enter marks for Subject 3:  90\n"
     ]
    },
    {
     "name": "stdout",
     "output_type": "stream",
     "text": [
      "Grade: C\n"
     ]
    }
   ],
   "source": [
    "#DAY-3Take input for marks in three subjects\n",
    "# Take input for marks in three subjects\n",
    "subject1 = float(input(\"Enter marks for Subject 1: \"))\n",
    "subject2 = float(input(\"Enter marks for Subject 2: \"))\n",
    "subject3 = float(input(\"Enter marks for Subject 3: \"))\n",
    "\n",
    "# Calculate the average\n",
    "average = (subject1 + subject2 + subject3) / 3\n",
    "\n",
    "# Determine the grade based on the average\n",
    "if average >= 90:\n",
    "    print(\"Grade: A\")\n",
    "elif 80 <= average < 90:\n",
    "    print(\"Grade: B\")\n",
    "elif 70 <= average < 80:\n",
    "    print(\"Grade: C\")\n",
    "else:\n",
    "    print(\"Grade: Fail\")"
   ]
  },
  {
   "cell_type": "code",
   "execution_count": null,
   "id": "e07add34-3130-43ef-94ff-8fb5031a07c4",
   "metadata": {},
   "outputs": [],
   "source": []
  }
 ],
 "metadata": {
  "kernelspec": {
   "display_name": "Python [conda env:base] *",
   "language": "python",
   "name": "conda-base-py"
  },
  "language_info": {
   "codemirror_mode": {
    "name": "ipython",
    "version": 3
   },
   "file_extension": ".py",
   "mimetype": "text/x-python",
   "name": "python",
   "nbconvert_exporter": "python",
   "pygments_lexer": "ipython3",
   "version": "3.12.7"
  }
 },
 "nbformat": 4,
 "nbformat_minor": 5
}

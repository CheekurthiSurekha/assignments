{
 "cells": [
  {
   "cell_type": "markdown",
   "id": "6a0772da-13db-4ea0-8db5-8e30d2b35434",
   "metadata": {},
   "source": [
    "Using the Pandas library, perform the following tasks:"
   ]
  },
  {
   "cell_type": "markdown",
   "id": "6bd97d61-06eb-49b2-bd6f-879a34449c8e",
   "metadata": {},
   "source": [
    "1. Create a DataFrame from the following data:\n",
    "   | Name     | Age | Department   | Salary  |\n",
    "   |----------|-----|--------------|---------|\n",
    "   | John     | 28  | HR           | 45000   |\n",
    "   | Alice    | 34  | IT           | 60000   |\n",
    "   | Bob      | 23  | Marketing    | 35000   |\n",
    "   | Diana    | 29  | Finance      | 50000   |\n"
   ]
  },
  {
   "cell_type": "code",
   "execution_count": 3,
   "id": "b863e4d0-6011-4763-a2d3-f6146b874840",
   "metadata": {},
   "outputs": [],
   "source": [
    "import pandas as pd"
   ]
  },
  {
   "cell_type": "code",
   "execution_count": 11,
   "id": "ee9f191b-aa7a-4846-a2f1-25d60b1a5087",
   "metadata": {},
   "outputs": [
    {
     "data": {
      "text/html": [
       "<div>\n",
       "<style scoped>\n",
       "    .dataframe tbody tr th:only-of-type {\n",
       "        vertical-align: middle;\n",
       "    }\n",
       "\n",
       "    .dataframe tbody tr th {\n",
       "        vertical-align: top;\n",
       "    }\n",
       "\n",
       "    .dataframe thead th {\n",
       "        text-align: right;\n",
       "    }\n",
       "</style>\n",
       "<table border=\"1\" class=\"dataframe\">\n",
       "  <thead>\n",
       "    <tr style=\"text-align: right;\">\n",
       "      <th></th>\n",
       "      <th>Name</th>\n",
       "      <th>Age</th>\n",
       "      <th>Department</th>\n",
       "      <th>Salary</th>\n",
       "    </tr>\n",
       "  </thead>\n",
       "  <tbody>\n",
       "    <tr>\n",
       "      <th>0</th>\n",
       "      <td>John</td>\n",
       "      <td>28</td>\n",
       "      <td>HR</td>\n",
       "      <td>45000</td>\n",
       "    </tr>\n",
       "    <tr>\n",
       "      <th>1</th>\n",
       "      <td>Alice</td>\n",
       "      <td>34</td>\n",
       "      <td>IT</td>\n",
       "      <td>60000</td>\n",
       "    </tr>\n",
       "    <tr>\n",
       "      <th>2</th>\n",
       "      <td>Bob</td>\n",
       "      <td>23</td>\n",
       "      <td>Marketing</td>\n",
       "      <td>35000</td>\n",
       "    </tr>\n",
       "    <tr>\n",
       "      <th>3</th>\n",
       "      <td>Diana</td>\n",
       "      <td>29</td>\n",
       "      <td>Finance</td>\n",
       "      <td>50000</td>\n",
       "    </tr>\n",
       "  </tbody>\n",
       "</table>\n",
       "</div>"
      ],
      "text/plain": [
       "    Name  Age Department  Salary\n",
       "0   John   28         HR   45000\n",
       "1  Alice   34         IT   60000\n",
       "2    Bob   23  Marketing   35000\n",
       "3  Diana   29    Finance   50000"
      ]
     },
     "execution_count": 11,
     "metadata": {},
     "output_type": "execute_result"
    }
   ],
   "source": [
    "# 1. Create a DataFrame\n",
    "data = {\n",
    "    \"Name\": [\"John\", \"Alice\", \"Bob\", \"Diana\"],\n",
    "    \"Age\": [28, 34, 23, 29],\n",
    "    \"Department\": [\"HR\", \"IT\", \"Marketing\", \"Finance\"],\n",
    "    \"Salary\": [45000, 60000, 35000, 50000]\n",
    "}\n",
    "df = pd.DataFrame(data)\n",
    "df"
   ]
  },
  {
   "cell_type": "markdown",
   "id": "c23a568a-784b-4b57-b7df-b81a9e59a562",
   "metadata": {},
   "source": [
    "2. Write code to:\n",
    "   - Display the first 2 rows of the DataFrame.\n",
    "   - Add a new column named `Bonus` where the bonus is 10% of the salary.\n",
    "   - Calculate the average salary of employees in the DataFrame.\n",
    "   - Filter and display employees who are older than 25."
   ]
  },
  {
   "cell_type": "code",
   "execution_count": 14,
   "id": "dfbd4936-734a-4027-a02b-51ebf52be5a3",
   "metadata": {},
   "outputs": [
    {
     "name": "stdout",
     "output_type": "stream",
     "text": [
      "First 2 rows of the DataFrame:\n",
      "    Name  Age Department  Salary\n",
      "0   John   28         HR   45000\n",
      "1  Alice   34         IT   60000\n",
      "\n",
      "DataFrame with Bonus column:\n",
      "    Name  Age Department  Salary   Bonus\n",
      "0   John   28         HR   45000  4500.0\n",
      "1  Alice   34         IT   60000  6000.0\n",
      "2    Bob   23  Marketing   35000  3500.0\n",
      "3  Diana   29    Finance   50000  5000.0\n",
      "\n",
      "Average Salary: 47500.0\n",
      "\n",
      "Employees older than 25:\n",
      "    Name  Age Department  Salary   Bonus\n",
      "0   John   28         HR   45000  4500.0\n",
      "1  Alice   34         IT   60000  6000.0\n",
      "3  Diana   29    Finance   50000  5000.0\n"
     ]
    }
   ],
   "source": [
    "# 2a. Display the first 2 rows of the DataFrame\n",
    "print(\"First 2 rows of the DataFrame:\")\n",
    "print(df.head(2))\n",
    "\n",
    "# 2b. Add a new column named 'Bonus' (10% of the salary)\n",
    "df[\"Bonus\"] = df[\"Salary\"] * 0.1\n",
    "print(\"\\nDataFrame with Bonus column:\")\n",
    "print(df)\n",
    "\n",
    "# 2c. Calculate the average salary\n",
    "average_salary = df[\"Salary\"].mean()\n",
    "print(\"\\nAverage Salary:\", average_salary)\n",
    "\n",
    "# 2d. Filter and display employees older than 25\n",
    "filtered_employees = df[df[\"Age\"] > 25]\n",
    "print(\"\\nEmployees older than 25:\")\n",
    "print(filtered_employees)"
   ]
  },
  {
   "cell_type": "code",
   "execution_count": null,
   "id": "52f99917-9b95-4cfe-91fd-eea5ae67ed80",
   "metadata": {},
   "outputs": [],
   "source": []
  }
 ],
 "metadata": {
  "kernelspec": {
   "display_name": "Python [conda env:base] *",
   "language": "python",
   "name": "conda-base-py"
  },
  "language_info": {
   "codemirror_mode": {
    "name": "ipython",
    "version": 3
   },
   "file_extension": ".py",
   "mimetype": "text/x-python",
   "name": "python",
   "nbconvert_exporter": "python",
   "pygments_lexer": "ipython3",
   "version": "3.12.7"
  }
 },
 "nbformat": 4,
 "nbformat_minor": 5
}

{
 "cells": [
  {
   "cell_type": "markdown",
   "id": "a30da971-2590-4a34-89de-bf5664f32471",
   "metadata": {},
   "source": [
    "Sorting and Ranking Data"
   ]
  },
  {
   "cell_type": "code",
   "execution_count": 2,
   "id": "8e50c676-5832-4b1d-bfe8-fdc90172ed32",
   "metadata": {},
   "outputs": [],
   "source": [
    "import pandas as pd"
   ]
  },
  {
   "cell_type": "code",
   "execution_count": 4,
   "id": "6156060c-bdc3-4d3e-ba34-71d6ba456a16",
   "metadata": {},
   "outputs": [],
   "source": [
    "import numpy as np"
   ]
  },
  {
   "cell_type": "code",
   "execution_count": 6,
   "id": "7ccc83df-194f-4b12-9ab1-c19e53c594d8",
   "metadata": {},
   "outputs": [],
   "source": [
    "import pandas as pd\n",
    "\n",
    "# Assuming your CSV file is named 'banking_data.csv'\n",
    "df = pd.read_csv('Day_11_banking_data.csv')"
   ]
  },
  {
   "cell_type": "code",
   "execution_count": 8,
   "id": "a9219bdc-d268-425f-906e-4ccd2656d979",
   "metadata": {},
   "outputs": [
    {
     "name": "stdout",
     "output_type": "stream",
     "text": [
      "          Date       Account_Type    Branch Transaction_Type  \\\n",
      "15  2023-01-03            Savings  Suburban   Service Charge   \n",
      "8   2023-01-20  Recurring Deposit  Downtown   Service Charge   \n",
      "2   2023-01-10            Current    Uptown     Loan Payment   \n",
      "7   2023-01-09            Current   Central     Loan Payment   \n",
      "17  2023-01-07            Current   Central     Loan Payment   \n",
      "1   2023-01-16            Current    Uptown       Withdrawal   \n",
      "19  2023-01-17            Savings   Central          Deposit   \n",
      "18  2023-01-12  Recurring Deposit  Suburban   Service Charge   \n",
      "16  2023-01-02      Fixed Deposit   Central          Deposit   \n",
      "14  2023-01-01      Fixed Deposit  Downtown       Withdrawal   \n",
      "\n",
      "    Transaction_Amount  Account_Balance  \n",
      "15             3350.32         12836.51  \n",
      "8              3899.98         12646.56  \n",
      "2              3363.85         12428.67  \n",
      "7              2346.72         10708.85  \n",
      "17             4116.52          9785.64  \n",
      "1               641.43          8908.39  \n",
      "19             4516.52          8789.19  \n",
      "18             1339.57          8666.74  \n",
      "16             4421.57          8330.40  \n",
      "14             4136.54          8175.08  \n"
     ]
    }
   ],
   "source": [
    "# Sort the dataset by 'Account_Balance' in descending order and display the first 10 rows\n",
    "sorted_df = df.sort_values(by='Account_Balance', ascending=False)\n",
    "\n",
    "# Display the first 10 rows of the sorted DataFrame\n",
    "print(sorted_df.head(10))"
   ]
  },
  {
   "cell_type": "code",
   "execution_count": 10,
   "id": "a56d8ba5-34b5-47c9-830b-b7d90b4848f0",
   "metadata": {},
   "outputs": [
    {
     "name": "stdout",
     "output_type": "stream",
     "text": [
      "     Branch  Transaction_Amount  Transaction_Rank\n",
      "0   Central              985.51               7.0\n",
      "1    Uptown              641.43               4.0\n",
      "2    Uptown             3363.85               1.0\n",
      "3    Uptown             1914.60               2.0\n",
      "4  Suburban             2788.57               3.0\n"
     ]
    }
   ],
   "source": [
    "# Create a ranking for 'Transaction_Amount' within each 'Branch'\n",
    "df['Transaction_Rank'] = df.groupby('Branch')['Transaction_Amount'].rank(ascending=False)\n",
    "\n",
    "# Display the DataFrame with the new 'Transaction_Rank' column\n",
    "print(df[['Branch', 'Transaction_Amount', 'Transaction_Rank']].head())"
   ]
  },
  {
   "cell_type": "code",
   "execution_count": null,
   "id": "aa235d98-fdaa-4021-a4b0-941882e5dcb9",
   "metadata": {},
   "outputs": [],
   "source": []
  }
 ],
 "metadata": {
  "kernelspec": {
   "display_name": "Python [conda env:base] *",
   "language": "python",
   "name": "conda-base-py"
  },
  "language_info": {
   "codemirror_mode": {
    "name": "ipython",
    "version": 3
   },
   "file_extension": ".py",
   "mimetype": "text/x-python",
   "name": "python",
   "nbconvert_exporter": "python",
   "pygments_lexer": "ipython3",
   "version": "3.12.7"
  }
 },
 "nbformat": 4,
 "nbformat_minor": 5
}
